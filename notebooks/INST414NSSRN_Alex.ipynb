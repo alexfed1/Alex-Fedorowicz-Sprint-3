{
 "cells": [
  {
   "cell_type": "code",
   "execution_count": 1,
   "id": "7de74328-3cc2-4bd5-ad15-76a55fe3c5de",
   "metadata": {},
   "outputs": [
    {
     "name": "stdout",
     "output_type": "stream",
     "text": [
      "C:\\Users\\afed1\\OneDrive\\Documents\\GitHub\\Alex-Fedorowicz---Sprint-3\n"
     ]
    }
   ],
   "source": [
    "from pathlib import Path\n",
    "print(Path.cwd())"
   ]
  },
  {
   "cell_type": "code",
   "execution_count": 2,
   "id": "19ffdaa8-ba5b-4969-be7c-f4f7bc934fa9",
   "metadata": {},
   "outputs": [
    {
     "name": "stdout",
     "output_type": "stream",
     "text": [
      "Requirement already satisfied: pyreadstat in c:\\users\\afed1\\anaconda3\\lib\\site-packages (1.2.8)\n",
      "Requirement already satisfied: pandas>=1.2.0 in c:\\users\\afed1\\anaconda3\\lib\\site-packages (from pyreadstat) (2.2.2)\n",
      "Requirement already satisfied: numpy>=1.26.0 in c:\\users\\afed1\\anaconda3\\lib\\site-packages (from pandas>=1.2.0->pyreadstat) (1.26.4)\n",
      "Requirement already satisfied: python-dateutil>=2.8.2 in c:\\users\\afed1\\anaconda3\\lib\\site-packages (from pandas>=1.2.0->pyreadstat) (2.9.0.post0)\n",
      "Requirement already satisfied: pytz>=2020.1 in c:\\users\\afed1\\anaconda3\\lib\\site-packages (from pandas>=1.2.0->pyreadstat) (2024.1)\n",
      "Requirement already satisfied: tzdata>=2022.7 in c:\\users\\afed1\\anaconda3\\lib\\site-packages (from pandas>=1.2.0->pyreadstat) (2023.3)\n",
      "Requirement already satisfied: six>=1.5 in c:\\users\\afed1\\anaconda3\\lib\\site-packages (from python-dateutil>=2.8.2->pandas>=1.2.0->pyreadstat) (1.16.0)\n",
      "Note: you may need to restart the kernel to use updated packages.\n"
     ]
    }
   ],
   "source": [
    "pip install pyreadstat"
   ]
  },
  {
   "cell_type": "code",
   "execution_count": 4,
   "id": "f4cd0d40-eac0-4292-bf39-91b93456483a",
   "metadata": {},
   "outputs": [
    {
     "name": "stdout",
     "output_type": "stream",
     "text": [
      "<class 'pandas.core.frame.DataFrame'>\n",
      "RangeIndex: 49114 entries, 0 to 49113\n",
      "Columns: 1234 entries, SN_LOC_ST_PUF to I_ED_ADDND_QUAL\n",
      "dtypes: float64(1213), object(21)\n",
      "memory usage: 462.4+ MB\n",
      "None\n"
     ]
    }
   ],
   "source": [
    "import pyreadstat\n",
    "\n",
    "# Read the .sas7bdat file\n",
    "df, meta = pyreadstat.read_sas7bdat('nssrn_2022_puf.sas7bdat')\n",
    "\n",
    "# Display basic info\n",
    "print(df.info())"
   ]
  },
  {
   "cell_type": "code",
   "execution_count": 5,
   "id": "59e14324-796c-47b9-9b76-8baebf16f822",
   "metadata": {},
   "outputs": [
    {
     "name": "stdout",
     "output_type": "stream",
     "text": [
      "['SN_LOC_ST_PUF', 'NH_LOC_ST_PUF', 'PRIOR_ST_PUF', 'G_RG20_PUF', 'REG_RESI', 'REG_B_ED', 'REG_EMPL', 'RST_SME_PUF', 'GD_GEOST', 'ED_NDLOC_CNTRY_PUF', 'G_RG21', 'G_ST20_PUF', 'G_ST21_PUF', 'SOURCE', 'ED_FRN_ST_PUF', 'ED_NDLOC_ST_PUF', 'PN_LOC_ST_PUF', 'STATE_PUF', 'PN_LCREQ_RN', 'PN_LCREQ_NP', 'PN_LCREQ_OTH', 'PN_LCREQ_NA', 'PN_LCREQ_NONE', 'PN_MTHSPY', 'NP_PRECEP_WHEN_1', 'NP_PRECEP_WHEN_2', 'NN_NW_RISK', 'PN_OE_TBC', 'CV_LVEWRK', 'CV_RETURN', 'LE_WRKGEO', 'ED_FINND_DEBT', 'ED_FALL_ONLNE', 'PN_POP_PNAT', 'PN_POP_NEWB', 'PN_POP_PED', 'PN_POP_ADLT', 'PN_POP_GER', 'PN_POP_ADOL_PUF', 'ED_NDONLNE', 'NH_YRSNURS', 'PN_NEWEMP', 'PN_WE_EBC', 'PN_WE_PCC', 'PN_WE_VBC', 'PN_WE_PBH', 'PN_WE_CMCP', 'PN_WE_MH', 'PN_WE_SUD', 'PN_WE_QI', 'PN_WE_TBC', 'PN_OE_EBC', 'PN_OE_PCC', 'PN_OE_VBC', 'PN_OE_PBH', 'PN_OE_QI', 'NN_INTENT', 'RE_RETIRE', 'ED_NONND_TYPE', 'ED_NONND_FOCUS_PUF', 'CV_BURNT_2019', 'CV_BURNT_2020', 'CV_BURNT_2021', 'PN_EMPSIT', 'PN_SATISFD', 'PN_WRK', 'NH_POSTN', 'NN_POSTN_PUF', 'ED_FALL_FULL', 'ED_NDLOC_US', 'PN_HOWLONG', 'RE_WRKGEO', 'RE_WHENLV', 'SEX', 'MARITAL', 'VETERAN_PUF', 'NH_LEFT_NUR', 'HISPANIC', 'NH_EMPSIT', 'NP_MLPPAY', 'PN_LEGALSOP', 'PN_PRACTICE', 'DB_SAMEREQ', 'DB_CLINPRIV', 'PN_COVBURNT', 'NP_INDEPNT', 'ED_RESIDENCY', 'ED_RESIDENCY_PRECEP', 'ED_EMERG_CHEM', 'ED_EMERG_BIO', 'ED_EMERG_NUCL', 'ED_EMERG_INFEC', 'ED_EMERG_NAT', 'ED_EMERG_OTH', 'PN_EMPLYD', 'PN_REMOTE', 'PN_TRAVEL', 'PN_TELHLTH', 'PN_THPERS', 'PN_PATCARE', 'PN_UNION', 'PN_SAME2020', 'PN_BURNOUT', 'PN_LFTWRK', 'LE_LVE_PAY', 'LE_LVE_BRNOUT', 'LE_LVE_CARADV', 'LE_LVE_CARCHG', 'LE_LVE_DISAB', 'LE_LVE_FAM', 'RE_CNSRDLV', 'RE_CLVYEAR', 'RE_LVE_PAY', 'RE_LVE_BRNOUT', 'RE_LVE_CARADV', 'RE_LVE_CARCHG', 'RE_LVE_CHDSCL', 'RE_LVE_DISAB', 'RE_LVE_FAM', 'RE_LVE_RISK', 'RE_LVE_INAB', 'RE_LVE_INSTAFF', 'RE_LVE_INTERP', 'RE_LVE_ADVOPP', 'RE_LVE_COLLAB', 'RE_LVE_GDMNG', 'RE_LVE_COMMTE', 'RE_LVE_PATPOP', 'RE_LVE_PHYSIC', 'RE_LVE_GEO', 'RE_LVE_RETIRE', 'RE_LVE_SCHED', 'RE_LVE_EDUC', 'RE_LVE_SPEMP', 'RE_LVE_STRSSWE', 'RE_LVE_UHC', 'RE_LVE_USP', 'RE_LVE_WRKHAR', 'RE_LVE_OTH_PUF', 'RE_RM_SCOPE', 'RE_RM_ADSTAFF', 'RE_RM_LNPAY', 'RE_RM_RESRC', 'RE_RM_TRNOPP', 'RE_RM_SCHED', 'RE_RM_UNDCOM', 'RE_RM_COL', 'RE_RM_DIFJOB', 'RE_RM_EXP', 'RE_RM_COMMTE', 'RE_RM_LIKE', 'RE_RM_OPPADV', 'RE_RM_SCLDIST', 'RE_RM_FMLY', 'RE_RM_SPEMP', 'RE_RM_SALARY', 'RE_RM_SSP', 'RE_RM_PEERS', 'RE_RM_EHR', 'RE_RM_TH', 'RE_RM_GDREL', 'RE_RM_REMOTE', 'RE_RM_OTH_PUF', 'SN_OTHRNURS', 'SN_TRAVEL', 'SN_EMP_AGENCY', 'SN_EMP_ORGWRK', 'SN_EMP_SELF', 'SN_SET_HSPTL', 'SN_SET_NRHM', 'SN_SET_ACAD', 'SN_SET_HMEH', 'SN_SET_PUBH', 'SN_SET_MNTL', 'SN_SET_SCLH', 'SN_SET_PHYS', 'SN_SET_AMBU', 'SN_SET_MISC', 'SN_SET_OTH_PUF', 'NP_LCNP', 'NP_NPINUM', 'NP_RSDNCY', 'NP_PRECEP', 'NP_PRECEP_REMUN', 'NP_LCREQNP', 'NP_PATCARE', 'NP_PHYSIGN_ANY', 'NP_PHYSIGN_ALL', 'NP_PHYSEE_ANY', 'NP_PHYSEE_ALL', 'NP_ETHNIC_DK', 'NP_LIMENG_DK', 'NP_INS_DK', 'NP_PANEL', 'NP_HSPLST', 'NP_HOSPAP', 'NP_MALPRC', 'NP_PAUTH', 'NP_NOPA_SSP', 'NP_NOPA_NOTREQ', 'NP_DEANUM', 'NP_NNP_NOJOB', 'NP_NNP_JOBLOC', 'NP_NNP_NOTWRK', 'NP_NNP_RETIRE', 'NP_NNP_OTH_PUF', 'NN_NW_BURNT', 'NN_NW_CARCHG', 'NN_NW_DIFFNP', 'NN_NW_DISAB', 'NN_NW_FAM', 'NN_NW_PROF', 'NN_NW_STAFF', 'NN_NW_ADVOPP', 'NN_NW_COLAB', 'NN_NW_GDMGN', 'NN_NW_LIAB', 'NN_NW_PHYSIC', 'NN_NW_RETIRE', 'NN_NW_PAY', 'NN_NW_SCHED', 'NN_NW_EDUC', 'NN_NW_SKILL', 'NN_NW_STRESS', 'NN_NW_UHC', 'NN_NW_USP', 'NN_NW_WRKHAR', 'NN_NW_OTH_PUF', 'NN_RETURN_DK', 'NN_EMP_NUR', 'NH_EMPPY', 'NH_REMOTE', 'NH_CHG_BENFIT', 'NH_CHG_BURNT', 'NH_CHG_CARADV', 'NH_CHG_CARCHG', 'NH_CHG_RISK', 'NH_CHG_LICENSE', 'NH_CHG_STAFF', 'NH_CHG_INTERP', 'NH_CHG_ADVOPP', 'NH_CHG_COLAB', 'NH_CHG_GDMNG', 'NH_CHG_COMMTE', 'NH_CHG_PATPOP', 'NH_CHG_PHYSIC', 'NH_CHG_GEOG', 'NH_CHG_RETIRE', 'NH_CHG_SCHED', 'NH_CHG_EDUC', 'NH_CHG_SPEMP', 'NH_CHG_STRESS', 'NH_CHG_UHC', 'NH_CHG_USP', 'NH_CHG_WRKHAR', 'NH_CHG_OTH_PUF', 'CV_EMPLYD', 'CV_EMPEXP_FURPAID', 'CV_EMPEXP_FURUNPAID', 'CV_EMPEXP_FORCEPAID', 'CV_EMPEXP_FORCEUNPAID', 'CV_EMPEXP_LAIDOFF', 'CV_EMPEXP_DELRETIRE', 'CV_EMPEXP_CHGEMP', 'CV_EMPEXP_PATNONPAT', 'CV_EMPEXP_NONPATPAT', 'CV_EMPEXP_FLOATINST', 'CV_EMPEXP_FLOATOUTST', 'CV_EMPEXP_LEFTINST', 'CV_EMPEXP_LEFTOUTST', 'CV_EMPEXP_NO', 'CV_LVE_USP', 'CV_LVE_RISK', 'CV_LVE_UHC', 'CV_LVE_FLOAT', 'CV_LVE_FAM', 'CV_LVE_INSTAFF', 'CV_LVE_BURNT', 'CV_LVE_OTH', 'CV_REQTEST', 'CV_TESTED', 'CV_TESTPOS', 'CV_HOSPITAL', 'CV_VACCINE', 'CV_REQVACC', 'DB_REPRTD', 'SAMECITY', 'LNG_NO', 'LNG_SPAN', 'LNG_FILI', 'LNG_CHIN', 'LNG_RUSS', 'LNG_KORE', 'LNG_VIET', 'LNG_AMSL', 'LNG_FREN', 'LNG_GERM', 'LNG_OTHER', 'DEP_CH6', 'DEP_CH18', 'DEP_ADLT', 'DEP_ELSE', 'DEP_NONE', 'NP_NPIBILL', 'PN_EHR', 'ED_CONTED', 'RE_WRKNURS', 'ED_LCRN', 'ED_FALL_ENROL', 'DB_EXPAND', 'DB_REPNP', 'DB_HIRE', 'PN_EVERYWK', 'PN_MORETRAIN_EBC', 'PN_MORETRAIN_PCC', 'PN_MORETRAIN_TBC', 'PN_MORETRAIN_VBC', 'PN_MORETRAIN_PBH', 'PN_MORETRAIN_WUC', 'PN_MORETRAIN_CMCP', 'PN_MORETRAIN_SDH', 'PN_MORETRAIN_MH', 'PN_MORETRAIN_SUD', 'PN_MORETRAIN_QI', 'PN_MORETRAIN_PMA', 'PN_TS_SUM', 'NP_INS_PRIV', 'NP_INS_CARE', 'NP_INS_CAID', 'NP_INS_TRI', 'NP_INS_VA', 'NP_INS_IHS', 'NP_INS_SELF', 'NP_INS_OTH', 'CV_VACCINE_MTH', 'NN_RETURN_YRS_PUF', 'NP_NUMPAT_PUF', 'NN_ACTLKG_PUF', 'NP_PRECEP_STUD_PUF', 'NP_PRECEP_HRS_PUF', 'NP_PATPD_PUF', 'CV_VACCINE_YR', 'PN_TS_RESRCH_PUF', 'PN_TS_NNT_PUF', 'PN_TS_OTH_PUF', 'PN_THHOURS_PUF', 'PN_TS_PCC_PUF', 'PN_TS_CARE_PUF', 'PN_TS_SUPER_PUF', 'PN_TS_TEACH_PUF', 'PN_WKSPY_PUF', 'NP_LIMENG_PUF', 'SN_HRSPW_PUF', 'NP_ETHNIC_PUF', 'PN_TITLE_PUF', 'LE_RETIRE_PUF', 'ED_FALL_DGREE_PUF', 'APN_COMBOS_PUF', 'NSKLCERT', 'NHLTHJOB', 'ED_NDTYPE_PUF', 'PN_CS_PUF', 'PN_HOSPSET_PUF', 'PN_NONPATSET_PUF', 'PN_INPATSET_PUF', 'PN_OUTPATSET_PUF', 'NH_HOSPSET_PUF', 'HHINCOME', 'LST_WRKD', 'SN_WKSPY_PUF', 'PN_HRS_SCHED_PUF', 'PN_HRS_WRK_PUF', 'ED_NDLOC_CONT', 'RACE', 'EDU_ENRLD_PUF', 'APN_CNS', 'NLC', 'HIGHNURS_PUF', 'NP_EMPL_21', 'EMPL_21', 'EMPL_20', 'EMPL_ORG', 'EMP21_20', 'PN_LVL_PUF', 'RAC_ETHN_PUF', 'SETSUM21', 'SETSUM20', 'MAR_ADULT', 'MAR_CHLD', 'APN_NA', 'APN_NM', 'APN_NP', 'EMP_STAT', 'NP_LICST_CT_PUF', 'NNOTNP_PUF', 'NWKSTATE', 'NFINANCE', 'NNOTRN', 'NREMAINJOB', 'NLVEPN', 'NRELVEPN', 'NCHREASN', 'RN_LICST_CT', 'DOMFUNCT_PUF', 'EMPL_TES', 'SET20_21', 'EMPL_SELF_PUF', 'NH_INPATSET_PUF', 'GRAD_WHR_PUF', 'RACE_GP', 'LVEPN_CAREER', 'LVEPN_PERSFAM', 'LVEPN_RETIRE', 'LVEPN_WRKPLCE', 'LVEPN_OTHER', 'ED_LPNVN', 'LC_CERTS', 'LC_NP_CERT', 'NP_CERT_FMLY', 'NP_CERT_GERP', 'NP_CERT_GERPA', 'NP_CERT_PEDI', 'NP_CERT_PSYCH', 'NP_CERT_WOMEN', 'NP_CERT_GERPG', 'NP_CERT_OTH_PUF', 'LC_CNS_CERT', 'LC_CNS_ADULT', 'LC_CNS_OTH', 'LC_CNS_COMB_PUF', 'LC_NM_CERT', 'LC_NA_CERT', 'LC_SBC_NONE', 'LC_SBC_AMBU', 'LC_SBC_CRIT', 'LC_SBC_EMER', 'LC_SBC_LIFE', 'LC_SBC_RES', 'LC_SBC_TRAU', 'LC_SBC_BAR', 'LC_SBC_CARD', 'LC_SBC_CASE', 'LC_SBC_HPC', 'LC_SBC_LACT', 'LC_SBC_MDSG', 'LC_SBC_NEON', 'LC_SBC_OBST', 'LC_SBC_ONCL', 'LC_SBC_PANC', 'LC_SBC_PCCN', 'LC_SBC_PEDI', 'LC_SBC_PON', 'LC_SBC_STRK', 'LC_SBC_WCO', 'LC_SBC_OTH_PUF', 'ED_FIN_SELF', 'ED_FIN_BOR', 'ED_FIN_FAL', 'ED_FIN_OL', 'ED_FIN_EMP', 'ED_FIN_VA', 'ED_FIN_HRSA', 'ED_FIN_OFT', 'ED_FIN_STLC', 'ED_FIN_NG', 'ED_FIN_OR', 'ED_FIN_UL', 'ED_PHS_NO', 'ED_PHS_A', 'ED_PHS_B', 'ED_PHS_M', 'ED_PHS_D', 'ED_PHS_OTH', 'ED_HRJ_AID', 'ED_HRJ_HH', 'ED_HRJ_LPVN', 'ED_HRJ_CHW', 'ED_HRJ_EMT', 'ED_HRJ_MED', 'ED_HRJ_DEN', 'ED_HRJ_AHT', 'ED_HRJ_MNG', 'ED_HRJ_CLERK', 'ED_HRJ_OTH_PUF', 'ED_HRJ_CSWB', 'ED_HRJ_LABT', 'ED_HRJ_MDCM', 'ED_HRJ_NIEA', 'ED_ADDND', 'ED_FINND', 'ED_NONND', 'PN_THTYP_LVC', 'PN_THTYP_PHONE', 'PN_THTYP_TEXT', 'PN_THTYP_AVC', 'PN_THTYP_RPM', 'PN_THTYP_MH', 'PN_THTYP_OTH_PUF', 'PN_RECTRAIN_EBC', 'PN_RECTRAIN_PCC', 'PN_RECTRAIN_TBC', 'PN_RECTRAIN_VBC', 'PN_RECTRAIN_PBH', 'PN_RECTRAIN_WUC', 'PN_RECTRAIN_CMCP', 'PN_RECTRAIN_SDH', 'PN_RECTRAIN_MH', 'PN_RECTRAIN_SUD', 'PN_RECTRAIN_QI', 'PN_RECTRAIN_PMA', 'PN_EDUCBEN_TUITION', 'PN_EDUCBEN_LOAN', 'PN_EDUCBEN_PDTIME', 'PN_EDUCBEN_SCHED', 'PN_EDUCBEN_OTH', 'PN_EDUCBEN_NO', 'LE_LVE_RISK', 'LE_LVE_INAB', 'LE_LVE_INSTAFF', 'LE_LVE_INTERP', 'LE_LVE_ADVOPP', 'LE_LVE_COLLAB', 'LE_LVE_GDMNG', 'LE_LVE_COMMTE', 'LE_LVE_PHYSIC', 'LE_LVE_GEO', 'LE_LVE_RETIRE', 'LE_LVE_SCHED', 'LE_LVE_EDUC', 'LE_LVE_SPEMP', 'LE_LVE_STRSSWE', 'LE_LVE_UHC', 'LE_LVE_USP', 'LE_LVE_WRKHAR', 'LE_LVE_REDUC', 'LE_LVE_TRAVEL', 'LE_LVE_OTH', 'LE_WRKNURS', 'ADDLANG', 'CH_CAREER', 'CH_PERSFAM', 'CH_RETIRE', 'CH_WRKPLCE', 'CH_OTHER', 'NOT_CAREER', 'NOT_PERSFAM', 'NOT_RETIRE', 'NOT_WORKPLACE', 'NOT_OTHER', 'RELVEPN_CAREER', 'RELVEPN_PERSFAM', 'RELVEPN_RETIRE', 'RELVEPN_WRKPLCE', 'RELVEPN_OTHER', 'LI_RESST', 'HN_AGE_PUF', 'BIRTHYR_PUF', 'ED_FRN_YR_PUF', 'ED_NONND_YR_PUF', 'ED_NDGRAD_YR_PUF', 'GRAD_YR_PUF', 'ED_RESIDENCY_YR_PUF', 'NN_EMP_YR_PUF', 'NP_LIC_D1', 'NP_LIC_D2', 'NP_LIC_D3', 'NP_LIC_D4', 'NP_LIC_D5', 'NP_LIC_D6', 'NP_LIC_D7', 'NP_LIC_D8', 'NP_LIC_D9', 'PN_EMPSET_COMB_PUF', 'NH_EMPSET_COMB_PUF', 'AGE_PUF', 'AGE_GRAD_PUF', 'AGE_GP_PUF', 'YR_SINCE_PUF', 'YRSNC_GP_PUF', 'HN_YEAR_PUF', 'YR_IN_HN_PUF', 'TOTRNHRS_YR_PUF', 'TOTSAL_PUF', 'HRS_YR_PUF', 'SN_EARN_PUF', 'PN_EARN_PUF', 'SUBMISSION_DATE', 'CNTRLNUM', 'RKRNWGTA', 'RKRNWGTA1', 'RKRNWGTA2', 'RKRNWGTA3', 'RKRNWGTA4', 'RKRNWGTA5', 'RKRNWGTA6', 'RKRNWGTA7', 'RKRNWGTA8', 'RKRNWGTA9', 'RKRNWGTA10', 'RKRNWGTA11', 'RKRNWGTA12', 'RKRNWGTA13', 'RKRNWGTA14', 'RKRNWGTA15', 'RKRNWGTA16', 'RKRNWGTA17', 'RKRNWGTA18', 'RKRNWGTA19', 'RKRNWGTA20', 'RKRNWGTA21', 'RKRNWGTA22', 'RKRNWGTA23', 'RKRNWGTA24', 'RKRNWGTA25', 'RKRNWGTA26', 'RKRNWGTA27', 'RKRNWGTA28', 'RKRNWGTA29', 'RKRNWGTA30', 'RKRNWGTA31', 'RKRNWGTA32', 'RKRNWGTA33', 'RKRNWGTA34', 'RKRNWGTA35', 'RKRNWGTA36', 'RKRNWGTA37', 'RKRNWGTA38', 'RKRNWGTA39', 'RKRNWGTA40', 'RKRNWGTA41', 'RKRNWGTA42', 'RKRNWGTA43', 'RKRNWGTA44', 'RKRNWGTA45', 'RKRNWGTA46', 'RKRNWGTA47', 'RKRNWGTA48', 'RKRNWGTA49', 'RKRNWGTA50', 'RKRNWGTA51', 'RKRNWGTA52', 'RKRNWGTA53', 'RKRNWGTA54', 'RKRNWGTA55', 'RKRNWGTA56', 'RKRNWGTA57', 'RKRNWGTA58', 'RKRNWGTA59', 'RKRNWGTA60', 'RKRNWGTA61', 'RKRNWGTA62', 'RKRNWGTA63', 'RKRNWGTA64', 'RKRNWGTA65', 'RKRNWGTA66', 'RKRNWGTA67', 'RKRNWGTA68', 'RKRNWGTA69', 'RKRNWGTA70', 'RKRNWGTA71', 'RKRNWGTA72', 'RKRNWGTA73', 'RKRNWGTA74', 'RKRNWGTA75', 'RKRNWGTA76', 'RKRNWGTA77', 'RKRNWGTA78', 'RKRNWGTA79', 'RKRNWGTA80', 'RN_HPSA', 'APRN_HPSA', 'RN_RURAL', 'APRN_RURAL', 'LC_NP_NCO', 'HIGHEDU_PUF', 'NP_INS_SUM', 'NH_CHG_FAM', 'PN_LOC_CODE_PUF', 'NH_NONPATSET_PUF', 'NH_OUTPATSET_PUF', 'ED_ADDND_ASSOC', 'ED_ADDND_BA', 'ED_ADDND_MA', 'ED_ADDND_PMC', 'ED_ADDND_DNP', 'ED_ADDND_DOC', 'ED_ADDND_OTHER', 'ED_ADDND_QUALNP', 'ED_ADDND_QUALCNS', 'ED_ADDND_QUALNM', 'ED_ADDND_QUALNA', 'RN_LIC_AK', 'RN_LIC_AL', 'RN_LIC_AR', 'RN_LIC_AZ', 'RN_LIC_CA', 'RN_LIC_CO', 'RN_LIC_CT', 'RN_LIC_DC', 'RN_LIC_DE', 'RN_LIC_FL', 'RN_LIC_GA', 'RN_LIC_HI', 'RN_LIC_IA', 'RN_LIC_ID', 'RN_LIC_IL', 'RN_LIC_IN', 'RN_LIC_KS', 'RN_LIC_KY', 'RN_LIC_LA', 'RN_LIC_MA', 'RN_LIC_MD', 'RN_LIC_ME', 'RN_LIC_MI', 'RN_LIC_MN', 'RN_LIC_MO', 'RN_LIC_MS', 'RN_LIC_NC', 'RN_LIC_ND', 'RN_LIC_NE', 'RN_LIC_NH', 'RN_LIC_NJ', 'RN_LIC_NM', 'RN_LIC_NV', 'RN_LIC_NY', 'RN_LIC_OH', 'RN_LIC_OK', 'RN_LIC_OR', 'RN_LIC_PA', 'RN_LIC_RI', 'RN_LIC_SC', 'RN_LIC_SD', 'RN_LIC_TN', 'RN_LIC_TX', 'RN_LIC_UT', 'RN_LIC_VA', 'RN_LIC_VT', 'RN_LIC_WA', 'RN_LIC_WI', 'RN_LIC_WV', 'I_BIRTHYR', 'I_CV_BURNT_2019', 'I_CV_BURNT_2020', 'I_CV_BURNT_2021', 'I_CV_EMPEXP_CHGEMP', 'I_CV_EMPEXP_DELRETIRE', 'I_CV_EMPEXP_FLOATINST', 'I_CV_EMPEXP_FLOATOUTST', 'I_CV_EMPEXP_FORCEPAID', 'I_CV_EMPEXP_FORCEUNPAID', 'I_CV_EMPEXP_FURPAID', 'I_CV_EMPEXP_FURUNPAID', 'I_CV_EMPEXP_LAIDOFF', 'I_CV_EMPEXP_LEFTINST', 'I_CV_EMPEXP_LEFTOUTST', 'I_CV_EMPEXP_NO', 'I_CV_EMPEXP_NONPATPAT', 'I_CV_EMPEXP_PATNONPAT', 'I_CV_EMPLYD', 'I_CV_HOSPITAL', 'I_CV_LVEWRK', 'I_CV_LVE_BURNT', 'I_CV_LVE_FAM', 'I_CV_LVE_FLOAT', 'I_CV_LVE_INSTAFF', 'I_CV_LVE_OTH', 'I_CV_LVE_RISK', 'I_CV_LVE_UHC', 'I_CV_LVE_USP', 'I_CV_REQTEST', 'I_CV_REQVACC', 'I_CV_RETURN', 'I_CV_TESTED', 'I_CV_TESTPOS', 'I_CV_VACCINE', 'I_CV_VACCINE_MTH', 'I_CV_VACCINE_YR', 'I_DB_CLINPRIV', 'I_DB_EXPAND', 'I_DB_HIRE', 'I_DB_REPNP', 'I_DB_REPRTD', 'I_DB_SAMEREQ', 'I_DEP_ADLT', 'I_DEP_CH6', 'I_DEP_CH18', 'I_DEP_ELSE', 'I_DEP_NONE', 'I_ED_ADDND', 'I_ED_CONTED', 'I_ED_EMERG_BIO', 'I_ED_EMERG_CHEM', 'I_ED_EMERG_INFEC', 'I_ED_EMERG_NAT', 'I_ED_EMERG_NUCL', 'I_ED_EMERG_OTH', 'I_ED_FALL_DGREE', 'I_ED_FALL_ENROL', 'I_ED_FALL_FULL', 'I_ED_FALL_ONLNE', 'I_ED_FINND', 'I_ED_FINND_DEBT', 'I_ED_FIN_BOR', 'I_ED_FIN_EMP', 'I_ED_FIN_FAL', 'I_ED_FIN_HRSA', 'I_ED_FIN_NG', 'I_ED_FIN_OFT', 'I_ED_FIN_OL', 'I_ED_FIN_OR', 'I_ED_FIN_SELF', 'I_ED_FIN_STLC', 'I_ED_FIN_UL', 'I_ED_FIN_VA', 'I_ED_FRN_ST', 'I_ED_FRN_YR', 'I_ED_HRJ_AHT', 'I_ED_HRJ_AID', 'I_ED_HRJ_CHW', 'I_ED_HRJ_CLERK', 'I_ED_HRJ_CSWB', 'I_ED_HRJ_DEN', 'I_ED_HRJ_EMT', 'I_ED_HRJ_HH', 'I_ED_HRJ_LABT', 'I_ED_HRJ_LPVN', 'I_ED_HRJ_MDCM', 'I_ED_HRJ_MED', 'I_ED_HRJ_MNG', 'I_ED_HRJ_NIEA', 'I_ED_HRJ_OTH', 'I_ED_LCRN', 'I_ED_LPNVN', 'I_ED_NDGRAD_YR', 'I_ED_NDLOC_CNTRY', 'I_ED_NDLOC_ST', 'I_ED_NDLOC_US', 'I_ED_NDONLNE', 'I_ED_NDTYPE', 'I_ED_NONND', 'I_ED_NONND_FOCUS', 'I_ED_NONND_TYPE', 'I_ED_NONND_YR', 'I_ED_PHS_A', 'I_ED_PHS_B', 'I_ED_PHS_D', 'I_ED_PHS_M', 'I_ED_PHS_NO', 'I_ED_PHS_OTH', 'I_ED_RESIDENCY', 'I_ED_RESIDENCY_PRECEP', 'I_ED_RESIDENCY_YR', 'I_HHINCOME', 'I_HISPANIC', 'I_LC_CERTS', 'I_LC_CNS_ADULT', 'I_LC_CNS_CERT', 'I_LC_CNS_OTH', 'I_LC_NA_CERT', 'I_LC_NM_CERT', 'I_LC_NP_CERT', 'I_LC_SBC_AMBU', 'I_LC_SBC_BAR', 'I_LC_SBC_CARD', 'I_LC_SBC_CASE', 'I_LC_SBC_CRIT', 'I_LC_SBC_EMER', 'I_LC_SBC_HPC', 'I_LC_SBC_LACT', 'I_LC_SBC_LIFE', 'I_LC_SBC_MDSG', 'I_LC_SBC_NEON', 'I_LC_SBC_NONE', 'I_LC_SBC_OBST', 'I_LC_SBC_ONCL', 'I_LC_SBC_OTH', 'I_LC_SBC_PANC', 'I_LC_SBC_PCCN', 'I_LC_SBC_PEDI', 'I_LC_SBC_PON', 'I_LC_SBC_RES', 'I_LC_SBC_STRK', 'I_LC_SBC_TRAU', 'I_LC_SBC_WCO', 'I_LE_LVE_ADVOPP', 'I_LE_LVE_BRNOUT', 'I_LE_LVE_CARADV', 'I_LE_LVE_CARCHG', 'I_LE_LVE_COLLAB', 'I_LE_LVE_COMMTE', 'I_LE_LVE_DISAB', 'I_LE_LVE_EDUC', 'I_LE_LVE_FAM', 'I_LE_LVE_GDMNG', 'I_LE_LVE_GEO', 'I_LE_LVE_INAB', 'I_LE_LVE_INSTAFF', 'I_LE_LVE_INTERP', 'I_LE_LVE_OTH', 'I_LE_LVE_PAY', 'I_LE_LVE_PHYSIC', 'I_LE_LVE_REDUC', 'I_LE_LVE_RETIRE', 'I_LE_LVE_RISK', 'I_LE_LVE_SCHED', 'I_LE_LVE_SPEMP', 'I_LE_LVE_STRSSWE', 'I_LE_LVE_TRAVEL', 'I_LE_LVE_UHC', 'I_LE_LVE_USP', 'I_LE_LVE_WRKHAR', 'I_LE_RETIRE', 'I_LE_WRKGEO', 'I_LE_WRKNURS', 'I_LNG_AMSL', 'I_LNG_CHIN', 'I_LNG_FILI', 'I_LNG_FREN', 'I_LNG_GERM', 'I_LNG_KORE', 'I_LNG_NO', 'I_LNG_OTHER', 'I_LNG_RUSS', 'I_LNG_SPAN', 'I_LNG_VIET', 'I_MARITAL', 'I_NH_CHG_ADVOPP', 'I_NH_CHG_BENFIT', 'I_NH_CHG_BURNT', 'I_NH_CHG_CARADV', 'I_NH_CHG_CARCHG', 'I_NH_CHG_COLAB', 'I_NH_CHG_COMMTE', 'I_NH_CHG_EDUC', 'I_NH_CHG_GDMNG', 'I_NH_CHG_GEOG', 'I_NH_CHG_INTERP', 'I_NH_CHG_LICENSE', 'I_NH_CHG_OTH', 'I_NH_CHG_PATPOP', 'I_NH_CHG_PHYSIC', 'I_NH_CHG_RETIRE', 'I_NH_CHG_RISK', 'I_NH_CHG_SCHED', 'I_NH_CHG_SPEMP', 'I_NH_CHG_STAFF', 'I_NH_CHG_STRESS', 'I_NH_CHG_UHC', 'I_NH_CHG_USP', 'I_NH_CHG_WRKHAR', 'I_NH_EMPPY', 'I_NH_EMPSIT', 'I_NH_HOSPSET', 'I_NH_INPATSET', 'I_NH_LEFT_NUR', 'I_NH_LOC_ST', 'I_NH_POSTN', 'I_NH_REMOTE', 'I_NH_YRSNURS', 'I_NN_ACTLKG', 'I_NN_EMP_NUR', 'I_NN_EMP_YR', 'I_NN_INTENT', 'I_NN_NW_ADVOPP', 'I_NN_NW_BURNT', 'I_NN_NW_CARCHG', 'I_NN_NW_COLAB', 'I_NN_NW_DIFFNP', 'I_NN_NW_DISAB', 'I_NN_NW_EDUC', 'I_NN_NW_FAM', 'I_NN_NW_GDMGN', 'I_NN_NW_LIAB', 'I_NN_NW_OTH', 'I_NN_NW_PAY', 'I_NN_NW_PHYSIC', 'I_NN_NW_PROF', 'I_NN_NW_RETIRE', 'I_NN_NW_RISK', 'I_NN_NW_SCHED', 'I_NN_NW_SKILL', 'I_NN_NW_STAFF', 'I_NN_NW_STRESS', 'I_NN_NW_UHC', 'I_NN_NW_USP', 'I_NN_NW_WRKHAR', 'I_NN_POSTN', 'I_NN_RETURN_DK', 'I_NN_RETURN_YRS', 'I_NP_CERT_FMLY', 'I_NP_CERT_GERP', 'I_NP_CERT_GERPA', 'I_NP_CERT_GERPG', 'I_NP_CERT_OTH', 'I_NP_CERT_PEDI', 'I_NP_CERT_PSYCH', 'I_NP_CERT_WOMEN', 'I_NP_DEANUM', 'I_NP_ETHNIC', 'I_NP_ETHNIC_DK', 'I_NP_HOSPAP', 'I_NP_HSPLST', 'I_NP_INDEPNT', 'I_NP_INS_CAID', 'I_NP_INS_CARE', 'I_NP_INS_DK', 'I_NP_INS_IHS', 'I_NP_INS_OTH', 'I_NP_INS_PRIV', 'I_NP_INS_SELF', 'I_NP_INS_TRI', 'I_NP_INS_VA', 'I_NP_LCNP', 'I_NP_LCREQNP', 'I_NP_LIMENG', 'I_NP_LIMENG_DK', 'I_NP_MALPRC', 'I_NP_MLPPAY', 'I_NP_NNP_JOBLOC', 'I_NP_NNP_NOJOB', 'I_NP_NNP_NOTWRK', 'I_NP_NNP_OTH', 'I_NP_NNP_RETIRE', 'I_NP_NOPA_NOTREQ', 'I_NP_NOPA_SSP', 'I_NP_NPIBILL', 'I_NP_NPINUM', 'I_NP_NUMPAT', 'I_NP_PANEL', 'I_NP_PATCARE', 'I_NP_PATPD', 'I_NP_PAUTH', 'I_NP_PHYSEE_ALL', 'I_NP_PHYSEE_ANY', 'I_NP_PHYSIGN_ALL', 'I_NP_PHYSIGN_ANY', 'I_NP_PRECEP', 'I_NP_PRECEP_HRS', 'I_NP_PRECEP_REMUN', 'I_NP_PRECEP_STUD', 'I_NP_PRECEP_WHEN_1', 'I_NP_PRECEP_WHEN_2', 'I_NP_RSDNCY', 'I_PN_BURNOUT', 'I_PN_COVBURNT', 'I_PN_CS', 'I_PN_EARN', 'I_PN_EDUCBEN_LOAN', 'I_PN_EDUCBEN_NO', 'I_PN_EDUCBEN_OTH', 'I_PN_EDUCBEN_PDTIME', 'I_PN_EDUCBEN_SCHED', 'I_PN_EDUCBEN_TUITION', 'I_PN_EHR', 'I_PN_EMPLYD', 'I_PN_EMPSIT', 'I_PN_EVERYWK', 'I_PN_HOSPSET', 'I_PN_HOWLONG', 'I_PN_HRS_SCHED', 'I_PN_HRS_WRK', 'I_PN_INPATSET', 'I_PN_LCREQ_NA', 'I_PN_LCREQ_NONE', 'I_PN_LCREQ_NP', 'I_PN_LCREQ_RN', 'I_PN_LEGALSOP', 'I_PN_LFTWRK', 'I_PN_LOC_ST', 'I_PN_LVL', 'I_PN_MORETRAIN_CMCP', 'I_PN_MORETRAIN_EBC', 'I_PN_MORETRAIN_MH', 'I_PN_MORETRAIN_PBH', 'I_PN_MORETRAIN_PCC', 'I_PN_MORETRAIN_PMA', 'I_PN_MORETRAIN_QI', 'I_PN_MORETRAIN_SDH', 'I_PN_MORETRAIN_SUD', 'I_PN_MORETRAIN_TBC', 'I_PN_MORETRAIN_VBC', 'I_PN_MORETRAIN_WUC', 'I_PN_MTHSPY', 'I_PN_NEWEMP', 'I_PN_NONPATSET', 'I_PN_OE_EBC', 'I_PN_OE_PBH', 'I_PN_OE_PCC', 'I_PN_OE_QI', 'I_PN_OE_TBC', 'I_PN_OE_VBC', 'I_PN_OUTPATSET', 'I_PN_PATCARE', 'I_PN_POP_ADLT', 'I_PN_POP_ADOL', 'I_PN_POP_GER', 'I_PN_POP_NEWB', 'I_PN_POP_PED', 'I_PN_POP_PNAT', 'I_PN_PRACTICE', 'I_PN_RECTRAIN_CMCP', 'I_PN_RECTRAIN_EBC', 'I_PN_RECTRAIN_MH', 'I_PN_RECTRAIN_PBH', 'I_PN_RECTRAIN_PCC', 'I_PN_RECTRAIN_PMA', 'I_PN_RECTRAIN_QI', 'I_PN_RECTRAIN_SDH', 'I_PN_RECTRAIN_SUD', 'I_PN_RECTRAIN_TBC', 'I_PN_RECTRAIN_VBC', 'I_PN_RECTRAIN_WUC', 'I_PN_REMOTE', 'I_PN_SAME2020', 'I_PN_SATISFD', 'I_PN_TELHLTH', 'I_PN_THHOURS', 'I_PN_THPERS', 'I_PN_THTYP_AVC', 'I_PN_THTYP_LVC', 'I_PN_THTYP_MH', 'I_PN_THTYP_OTH', 'I_PN_THTYP_PHONE', 'I_PN_THTYP_RPM', 'I_PN_THTYP_TEXT', 'I_PN_TITLE', 'I_PN_TRAVEL', 'I_PN_TS_CARE', 'I_PN_TS_NNT', 'I_PN_TS_OTH', 'I_PN_TS_PCC', 'I_PN_TS_RESRCH', 'I_PN_TS_SUPER', 'I_PN_TS_TEACH', 'I_PN_UNION', 'I_PN_WE_CMCP', 'I_PN_WE_EBC', 'I_PN_WE_MH', 'I_PN_WE_PBH', 'I_PN_WE_PCC', 'I_PN_WE_QI', 'I_PN_WE_SUD', 'I_PN_WE_TBC', 'I_PN_WE_VBC', 'I_PN_WKSPY', 'I_PN_WRK', 'I_PRIOR_ST', 'I_RACE', 'I_RE_CLVYEAR', 'I_RE_CNSRDLV', 'I_RE_LVE_ADVOPP', 'I_RE_LVE_BRNOUT', 'I_RE_LVE_CARADV', 'I_RE_LVE_CARCHG', 'I_RE_LVE_CHDSCL', 'I_RE_LVE_COLLAB', 'I_RE_LVE_COMMTE', 'I_RE_LVE_DISAB', 'I_RE_LVE_EDUC', 'I_RE_LVE_FAM', 'I_RE_LVE_GDMNG', 'I_RE_LVE_GEO', 'I_RE_LVE_INAB', 'I_RE_LVE_INSTAFF', 'I_RE_LVE_INTERP', 'I_RE_LVE_OTH', 'I_RE_LVE_PATPOP', 'I_RE_LVE_PAY', 'I_RE_LVE_PHYSIC', 'I_RE_LVE_RETIRE', 'I_RE_LVE_RISK', 'I_RE_LVE_SCHED', 'I_RE_LVE_SPEMP', 'I_RE_LVE_STRSSWE', 'I_RE_LVE_UHC', 'I_RE_LVE_USP', 'I_RE_LVE_WRKHAR', 'I_RE_RETIRE', 'I_RE_RM_ADSTAFF', 'I_RE_RM_COL', 'I_RE_RM_COMMTE', 'I_RE_RM_DIFJOB', 'I_RE_RM_EHR', 'I_RE_RM_EXP', 'I_RE_RM_FMLY', 'I_RE_RM_GDREL', 'I_RE_RM_LIKE', 'I_RE_RM_LNPAY', 'I_RE_RM_OPPADV', 'I_RE_RM_OTH', 'I_RE_RM_PEERS', 'I_RE_RM_REMOTE', 'I_RE_RM_RESRC', 'I_RE_RM_SALARY', 'I_RE_RM_SCHED', 'I_RE_RM_SCLDIST', 'I_RE_RM_SCOPE', 'I_RE_RM_SPEMP', 'I_RE_RM_SSP', 'I_RE_RM_TH', 'I_RE_RM_TRNOPP', 'I_RE_RM_UNDCOM', 'I_RE_WHENLV', 'I_RE_WRKGEO', 'I_RE_WRKNURS', 'I_SAMECITY', 'I_SEX', 'I_SN_EARN', 'I_SN_EMP_AGENCY', 'I_SN_EMP_ORGWRK', 'I_SN_EMP_SELF', 'I_SN_HRSPW', 'I_SN_LOC_ST', 'I_SN_OTHRNURS', 'I_SN_SET_ACAD', 'I_SN_SET_AMBU', 'I_SN_SET_HMEH', 'I_SN_SET_HSPTL', 'I_SN_SET_MISC', 'I_SN_SET_MNTL', 'I_SN_SET_NRHM', 'I_SN_SET_PHYS', 'I_SN_SET_PUBH', 'I_SN_SET_SCLH', 'I_SN_TRAVEL', 'I_SN_WKSPY', 'I_STATE', 'I_VETERAN', 'I_LC_NP_NCO', 'I_NH_CHG_FAM', 'I_NH_NONPATSET', 'I_NH_OUTPATSET', 'I_ED_ADDND_TYPE', 'I_ED_ADDND_QUAL']\n"
     ]
    }
   ],
   "source": [
    "print(df.columns.tolist())"
   ]
  },
  {
   "cell_type": "code",
   "execution_count": 6,
   "id": "85c50676-c905-4f4f-bf16-ecc6ac8ac905",
   "metadata": {},
   "outputs": [],
   "source": [
    "# Make file smaller by keeping only needed variables\n",
    "  df_s = df[['CV_BURNT_2021', 'RKRNWGTA', 'HRS_YR_PUF', 'PN_EMPSET_COMB_PUF', 'ED_NONND_TYPE', \n",
    "           'NH_YRSNURS', 'PN_HRS_WRK_PUF', 'AGE_GP_PUF', 'RKRNWGTA1', 'RKRNWGTA2', 'RKRNWGTA3', \n",
    "           'RKRNWGTA4', 'RKRNWGTA5', 'RKRNWGTA6', 'RKRNWGTA7', 'RKRNWGTA8', 'RKRNWGTA9', \n",
    "           'RKRNWGTA10', 'RKRNWGTA11', 'RKRNWGTA12', 'RKRNWGTA13', 'RKRNWGTA14', 'RKRNWGTA15', \n",
    "           'RKRNWGTA16', 'RKRNWGTA17', 'RKRNWGTA18', 'RKRNWGTA19', 'RKRNWGTA20', 'RKRNWGTA21', \n",
    "           'RKRNWGTA22', 'RKRNWGTA23', 'RKRNWGTA24', 'RKRNWGTA25', 'RKRNWGTA26', 'RKRNWGTA27', \n",
    "           'RKRNWGTA28', 'RKRNWGTA29', 'RKRNWGTA30', 'RKRNWGTA31', 'RKRNWGTA32', 'RKRNWGTA33', \n",
    "           'RKRNWGTA34', 'RKRNWGTA35', 'RKRNWGTA36', 'RKRNWGTA37', 'RKRNWGTA38', 'RKRNWGTA39', \n",
    "           'RKRNWGTA40', 'RKRNWGTA41', 'RKRNWGTA42', 'RKRNWGTA43', 'RKRNWGTA44', 'RKRNWGTA45', \n",
    "           'RKRNWGTA46', 'RKRNWGTA47', 'RKRNWGTA48', 'RKRNWGTA49', 'RKRNWGTA50', 'RKRNWGTA51', \n",
    "           'RKRNWGTA52', 'RKRNWGTA53', 'RKRNWGTA54', 'RKRNWGTA55', 'RKRNWGTA56', 'RKRNWGTA57', \n",
    "           'RKRNWGTA58', 'RKRNWGTA59', 'RKRNWGTA60', 'RKRNWGTA61', 'RKRNWGTA62', 'RKRNWGTA63', \n",
    "           'RKRNWGTA64', 'RKRNWGTA65', 'RKRNWGTA66', 'RKRNWGTA67', 'RKRNWGTA68', 'RKRNWGTA69', \n",
    "           'RKRNWGTA70', 'RKRNWGTA71', 'RKRNWGTA72', 'RKRNWGTA73', 'RKRNWGTA74', 'RKRNWGTA75', \n",
    "           'RKRNWGTA76', 'RKRNWGTA77', 'RKRNWGTA78', 'RKRNWGTA79', 'RKRNWGTA80']] "
   ]
  },
  {
   "cell_type": "code",
   "execution_count": 7,
   "id": "7a75cb3c-19cd-4c7a-8189-ba856d045e92",
   "metadata": {},
   "outputs": [],
   "source": [
    "df_s.to_csv('df_s_output.csv', index=False)"
   ]
  },
  {
   "cell_type": "code",
   "execution_count": 5,
   "id": "c5230ea8-1e6f-42b3-9c3c-67bb114198be",
   "metadata": {},
   "outputs": [],
   "source": [
    "# If running code start here\n",
    "import pandas as pd\n",
    "df = pd.read_csv('/Users/alex/Documents/GitHub/Sprint-3/data/processed/df_s_output.csv')"
   ]
  },
  {
   "cell_type": "code",
   "execution_count": 6,
   "id": "bf4d0e84-60cf-4190-9dc3-bd7a70f16f21",
   "metadata": {},
   "outputs": [
    {
     "name": "stdout",
     "output_type": "stream",
     "text": [
      "Requirement already satisfied: python-docx in /Users/alex/anaconda3/lib/python3.11/site-packages (1.1.2)\n",
      "Requirement already satisfied: lxml>=3.1.0 in /Users/alex/anaconda3/lib/python3.11/site-packages (from python-docx) (4.9.3)\n",
      "Requirement already satisfied: typing-extensions>=4.9.0 in /Users/alex/anaconda3/lib/python3.11/site-packages (from python-docx) (4.12.2)\n",
      "Note: you may need to restart the kernel to use updated packages.\n"
     ]
    }
   ],
   "source": [
    "pip install --upgrade python-docx"
   ]
  },
  {
   "cell_type": "code",
   "execution_count": 7,
   "id": "6d0a7f17-3452-4422-96f8-0769a3e1c4b0",
   "metadata": {},
   "outputs": [],
   "source": [
    "from docx import Document"
   ]
  },
  {
   "cell_type": "code",
   "execution_count": 8,
   "id": "c2baf547-524c-42df-b6aa-6a814bc01b25",
   "metadata": {},
   "outputs": [
    {
     "name": "stdout",
     "output_type": "stream",
     "text": [
      "Number of observations in df: 49114\n",
      "Number of observations in df1: 44124\n"
     ]
    }
   ],
   "source": [
    "# Removing observations where CV_BURNT_2021 is NaN or 1\n",
    "df1 = df[~df['CV_BURNT_2021'].isin([1]) & df['CV_BURNT_2021'].notna()]\n",
    "\n",
    "# Checking the number of observations in df and df1\n",
    "num_obs_df = len(df)\n",
    "num_obs_df1 = len(df1)\n",
    "\n",
    "print(f\"Number of observations in df: {num_obs_df}\")\n",
    "print(f\"Number of observations in df1: {num_obs_df1}\")"
   ]
  },
  {
   "cell_type": "code",
   "execution_count": 9,
   "id": "b0a37f91-3ca2-49e4-b6f5-31802a07de48",
   "metadata": {},
   "outputs": [
    {
     "name": "stdout",
     "output_type": "stream",
     "text": [
      "Unique values in df:\n",
      "[ 2.  6. nan  4.  3.  1.  5.]\n",
      "\n",
      "Unique values in df1:\n",
      "[2. 6. 4. 3. 5.]\n"
     ]
    }
   ],
   "source": [
    "# Check unique values in CV_BURNT_2021 column of both df and df1\n",
    "unique_values_df = df['CV_BURNT_2021'].unique()\n",
    "unique_values_df1 = df1['CV_BURNT_2021'].unique()\n",
    "\n",
    "print(\"Unique values in df:\")\n",
    "print(unique_values_df)\n",
    "\n",
    "print(\"\\nUnique values in df1:\")\n",
    "print(unique_values_df1)"
   ]
  },
  {
   "cell_type": "code",
   "execution_count": 10,
   "id": "090a8e21-2636-45b8-8a26-2434a739e9b7",
   "metadata": {},
   "outputs": [
    {
     "name": "stdout",
     "output_type": "stream",
     "text": [
      "Unique values after replacement:\n",
      "['NEVER' 'EVERYDAY' 'A FEW TIMES A MONTH' 'A FEW TIMES A YEAR'\n",
      " 'A FEW TIMES A WEEK']\n"
     ]
    },
    {
     "name": "stderr",
     "output_type": "stream",
     "text": [
      "/var/folders/d5/kgysm8891fz4fb9h73cdy99c0000gn/T/ipykernel_63974/2707810536.py:11: SettingWithCopyWarning: \n",
      "A value is trying to be set on a copy of a slice from a DataFrame.\n",
      "Try using .loc[row_indexer,col_indexer] = value instead\n",
      "\n",
      "See the caveats in the documentation: https://pandas.pydata.org/pandas-docs/stable/user_guide/indexing.html#returning-a-view-versus-a-copy\n",
      "  df1['CV_BURNT_2021'] = df1['CV_BURNT_2021'].replace(value_map)\n"
     ]
    }
   ],
   "source": [
    "# Mapping the numerical values to their corresponding labels\n",
    "value_map = {\n",
    "    2: 'NEVER',\n",
    "    3: 'A FEW TIMES A YEAR',\n",
    "    4: 'A FEW TIMES A MONTH',\n",
    "    5: 'A FEW TIMES A WEEK',\n",
    "    6: 'EVERYDAY'\n",
    "}\n",
    "\n",
    "# Applying the mapping to the 'CV_BURNT_2021' column\n",
    "df1['CV_BURNT_2021'] = df1['CV_BURNT_2021'].replace(value_map)\n",
    "\n",
    "# Checking the unique values in the column after the replacement\n",
    "print(\"Unique values after replacement:\")\n",
    "print(df1['CV_BURNT_2021'].unique())\n"
   ]
  },
  {
   "cell_type": "code",
   "execution_count": 11,
   "id": "2c0ef342-cd93-439e-b6b3-d554b4267174",
   "metadata": {},
   "outputs": [
    {
     "name": "stdout",
     "output_type": "stream",
     "text": [
      "Weighted Distribution of CV_BURNT_2021 using main weight (RKRNWGTA):\n",
      "CV_BURNT_2021\n",
      "A FEW TIMES A MONTH    780969.456265\n",
      "A FEW TIMES A WEEK     962267.574494\n",
      "A FEW TIMES A YEAR     653556.053052\n",
      "EVERYDAY               979612.731883\n",
      "NEVER                  433528.426639\n",
      "dtype: float64\n"
     ]
    },
    {
     "name": "stderr",
     "output_type": "stream",
     "text": [
      "/var/folders/d5/kgysm8891fz4fb9h73cdy99c0000gn/T/ipykernel_63974/2751964176.py:3: DeprecationWarning: DataFrameGroupBy.apply operated on the grouping columns. This behavior is deprecated, and in a future version of pandas the grouping columns will be excluded from the operation. Either pass `include_groups=False` to exclude the groupings or explicitly select the grouping columns after groupby to silence this warning.\n",
      "  main_weighted_distribution = df1.groupby('CV_BURNT_2021').apply(\n"
     ]
    }
   ],
   "source": [
    "# Calculate the weighted distribution of CV_BURNT_2021\n",
    "# First calculate the weighted distribution using the main weight column 'RKRNWGTA'\n",
    "main_weighted_distribution = df1.groupby('CV_BURNT_2021').apply(\n",
    "    lambda x: (x['RKRNWGTA'] * 1).sum())  # Sum the main weights for each category\n",
    "\n",
    "# Print the weighted distribution (using main weights)\n",
    "print(\"Weighted Distribution of CV_BURNT_2021 using main weight (RKRNWGTA):\")\n",
    "print(main_weighted_distribution)\n"
   ]
  },
  {
   "cell_type": "code",
   "execution_count": 12,
   "id": "9ba1fdf2-d589-41d3-8341-c35f149ae9eb",
   "metadata": {},
   "outputs": [
    {
     "name": "stdout",
     "output_type": "stream",
     "text": [
      "Word document created: weighted_burnout_distribution.docx\n"
     ]
    }
   ],
   "source": [
    "# Create a new Word document\n",
    "doc = Document()\n",
    "\n",
    "# Add a title\n",
    "doc.add_heading('Weighted Distribution of Burnout (CV_BURNT_2021)', level=1)\n",
    "doc.add_paragraph('Using main weight: RKRNWGTA')\n",
    "\n",
    "# Add a table\n",
    "table = doc.add_table(rows=1, cols=2)\n",
    "table.style = 'Table Grid'\n",
    "\n",
    "# Set header row\n",
    "hdr_cells = table.rows[0].cells\n",
    "hdr_cells[0].text = 'Burnout Category'\n",
    "hdr_cells[1].text = 'Weighted Count'\n",
    "\n",
    "# Add data rows\n",
    "for category, weighted_count in main_weighted_distribution.items():\n",
    "    row_cells = table.add_row().cells\n",
    "    row_cells[0].text = str(category)\n",
    "    row_cells[1].text = f\"{weighted_count:,.2f}\"\n",
    "\n",
    "# Save the document\n",
    "doc.save('weighted_burnout_distribution.docx')\n",
    "print(\"Word document created: weighted_burnout_distribution.docx\")"
   ]
  },
  {
   "cell_type": "code",
   "execution_count": 13,
   "id": "af1c0660-3f89-4f2c-9d61-dc3a1997e88c",
   "metadata": {},
   "outputs": [],
   "source": [
    "import matplotlib.pyplot as plt\n",
    "import seaborn as sns"
   ]
  },
  {
   "cell_type": "code",
   "execution_count": 14,
   "id": "ef6cddfd-9c59-4d4c-9f44-131c277d08c8",
   "metadata": {},
   "outputs": [
    {
     "data": {
      "image/png": "[encoded data removed]",
      "text/plain": [
       "<Figure size 800x600 with 1 Axes>"
      ]
     },
     "metadata": {},
     "output_type": "display_data"
    }
   ],
   "source": [
    "# Visualize the weighted distribution of CV_BURNT_2021 using a bar plot with weights\n",
    "plt.figure(figsize=(8, 6))\n",
    "sns.barplot(x=main_weighted_distribution.index, y=main_weighted_distribution.values, color='blue')\n",
    "plt.title('Feellings of Burnout in 2021')\n",
    "plt.xlabel('Estimate Number')\n",
    "plt.ylabel('Frequency')\n",
    "plt.xticks(rotation=45)\n",
    "plt.show()"
   ]
  },
  {
   "cell_type": "code",
   "execution_count": 15,
   "id": "3e3f6180-8f23-4f07-be11-4e652433d182",
   "metadata": {},
   "outputs": [
    {
     "name": "stdout",
     "output_type": "stream",
     "text": [
      " Word document created: weighted_burnout_distribution_with_resized_plot.docx\n"
     ]
    }
   ],
   "source": [
    "from matplotlib.ticker import StrMethodFormatter  \n",
    "from docx import Document\n",
    "from docx.shared import Inches\n",
    "\n",
    "# Create the bar plot for weighted distribution\n",
    "plt.figure(figsize=(8, 6))\n",
    "sns.barplot(x=main_weighted_distribution.index, y=main_weighted_distribution.values, color='blue')\n",
    "\n",
    "plt.title('Feellings of Burnout in 2021')\n",
    "plt.xlabel('Frequency')\n",
    "plt.ylabel('Estmiated Number')\n",
    "plt.xticks(rotation=45)\n",
    "\n",
    "# Remove scientific notation from y-axis\n",
    "plt.gca().yaxis.set_major_formatter(StrMethodFormatter('{x:,.0f}'))  \n",
    "# Save the plot as an image file\n",
    "plot_image_path = \"weighted_burnout_distribution_plot.png\"\n",
    "plt.tight_layout()\n",
    "plt.savefig(plot_image_path, dpi=300)\n",
    "plt.close()\n",
    "\n",
    "# Create a new Word document\n",
    "doc = Document()\n",
    "\n",
    "# Add a title and paragraph\n",
    "doc.add_heading('Weighted Distribution of Burnout (CV_BURNT_2021)', level=1)\n",
    "doc.add_paragraph('Using main weight: RKRNWGTA')\n",
    "\n",
    "# Add plot to Word\n",
    "doc.add_picture(plot_image_path, width=Inches(6))\n",
    "\n",
    "# Save Word document\n",
    "doc.save('weighted_burnout_distribution_with_resized_plot.docx')\n",
    "print(\" Word document created: weighted_burnout_distribution_with_resized_plot.docx\")"
   ]
  },
  {
   "cell_type": "code",
   "execution_count": 16,
   "id": "acbe700c-3e60-4544-8b31-0bd1e0101ebb",
   "metadata": {},
   "outputs": [],
   "source": [
    "from statsmodels.stats.weightstats import DescrStatsW"
   ]
  },
  {
   "cell_type": "code",
   "execution_count": 17,
   "id": "7e6990b1-b5e2-4e7f-92be-0249865eacd8",
   "metadata": {},
   "outputs": [
    {
     "name": "stderr",
     "output_type": "stream",
     "text": [
      "/Users/alex/anaconda3/lib/python3.11/site-packages/seaborn/_oldcore.py:1119: FutureWarning: use_inf_as_na option is deprecated and will be removed in a future version. Convert inf values to NaN before operating instead.\n",
      "  with pd.option_context('mode.use_inf_as_na', True):\n"
     ]
    },
    {
     "name": "stdout",
     "output_type": "stream",
     "text": [
      "Word document created: weighted_summary_and_plot_for_HRS_YR_PUF.docx\n"
     ]
    }
   ],
   "source": [
    "# Drop rows with missing values in HRS_YR_PUF or RKRNWGTA\n",
    "df2 = df1[df1['HRS_YR_PUF'].notna()]\n",
    "\n",
    "# Calculate the weighted statistics\n",
    "weighted_stats = DescrStatsW(df2['HRS_YR_PUF'], weights=df2['RKRNWGTA'], ddof=0)\n",
    "\n",
    "# Summary statistics\n",
    "mean = weighted_stats.mean\n",
    "std = weighted_stats.std\n",
    "var = weighted_stats.var\n",
    "min_value = df2['HRS_YR_PUF'].min()\n",
    "max_value = df2['HRS_YR_PUF'].max()\n",
    "\n",
    "# Create Word document\n",
    "doc = Document()\n",
    "doc.add_heading('Weighted Summary Statistics for HRS_YR_PUF', level=1)\n",
    "doc.add_paragraph(f\"Mean: {mean:,.2f}\")\n",
    "doc.add_paragraph(f\"Standard Deviation: {std:,.2f}\")\n",
    "doc.add_paragraph(f\"Variance: {var:,.2f}\")\n",
    "doc.add_paragraph(f\"Min: {min_value:,.2f}\")\n",
    "doc.add_paragraph(f\"Max: {max_value:,.2f}\")\n",
    "\n",
    "# Create and save the weighted distribution plot\n",
    "plt.figure(figsize=(8, 6))\n",
    "sns.histplot(\n",
    "    data=df2,\n",
    "    x='HRS_YR_PUF',\n",
    "    weights='RKRNWGTA',\n",
    "    kde=True,\n",
    "    bins=20,\n",
    "    color='blue'\n",
    ")\n",
    "plt.title('Weighted Distribution of Hours Worked Per Year')\n",
    "plt.xlabel('Hours Worked Per Year')\n",
    "plt.ylabel('Weighted Frequency')\n",
    "\n",
    "# Remove scientific notation from y-axis\n",
    "plt.gca().yaxis.set_major_formatter(StrMethodFormatter('{x:,.0f}'))\n",
    "\n",
    "# Save the plot\n",
    "plot_image_path = \"weighted_hours_distribution_plot.png\"\n",
    "plt.tight_layout()\n",
    "plt.savefig(plot_image_path, dpi=300)\n",
    "plt.close()\n",
    "\n",
    "# Add plot to Word doc\n",
    "doc.add_picture(plot_image_path, width=Inches(6))\n",
    "doc.save('weighted_summary_and_plot_for_HRS_YR_PUF.docx')\n",
    "\n",
    "print(\"Word document created: weighted_summary_and_plot_for_HRS_YR_PUF.docx\")"
   ]
  },
  {
   "cell_type": "code",
   "execution_count": 18,
   "id": "fd004863-4baf-4356-9542-f2c379b31fb3",
   "metadata": {},
   "outputs": [
    {
     "name": "stdout",
     "output_type": "stream",
     "text": [
      "Descriptive Statistics for Hours Worked Per Year by Burnout Types:\n",
      "                            Mean     StdErr     CI_Lower     CI_Upper  \\\n",
      "Burnout_Level                                                           \n",
      "NEVER                1585.200810  11.930326  1561.817371  1608.584248   \n",
      "EVERYDAY             1924.231539   8.458540  1907.652801  1940.810278   \n",
      "A FEW TIMES A MONTH  1770.595043   7.799480  1755.308062  1785.882024   \n",
      "A FEW TIMES A YEAR   1733.120943   7.421511  1718.574782  1747.667105   \n",
      "A FEW TIMES A WEEK   1872.456621   6.509063  1859.698858  1885.214385   \n",
      "\n",
      "                           CV  \n",
      "Burnout_Level                  \n",
      "NEVER                0.752607  \n",
      "EVERYDAY             0.439580  \n",
      "A FEW TIMES A MONTH  0.440501  \n",
      "A FEW TIMES A YEAR   0.428217  \n",
      "A FEW TIMES A WEEK   0.347622  \n"
     ]
    }
   ],
   "source": [
    "import numpy as np\n",
    "# Get main weight and replicate weights\n",
    "main_weight = df2['RKRNWGTA']\n",
    "rep_weights = df2[[f'RKRNWGTA{i}' for i in range(1, 81)]]\n",
    "\n",
    "# Grouping variable\n",
    "burnout_groups = df2['CV_BURNT_2021'].unique()\n",
    "\n",
    "# Store results\n",
    "results = {}\n",
    "\n",
    "# Fay's constant \n",
    "k = 1  \n",
    "\n",
    "# Loop through each burnout group\n",
    "for group in burnout_groups:\n",
    "    sub = df2[df2['CV_BURNT_2021'] == group]\n",
    "\n",
    "    # Weighted mean using main weight\n",
    "    y = sub['HRS_YR_PUF']\n",
    "    w = sub['RKRNWGTA']\n",
    "    main_mean = np.average(y, weights=w)\n",
    "\n",
    "    # Replicate means\n",
    "    replicate_means = []\n",
    "    for i in range(1, 81):\n",
    "        rep_weight = sub[f'RKRNWGTA{i}']\n",
    "        rep_mean = np.average(y, weights=rep_weight)\n",
    "        replicate_means.append(rep_mean)\n",
    "\n",
    "    # Calculate variance of replicate means\n",
    "    replicate_means = np.array(replicate_means)\n",
    "    se = np.sqrt((1 / 80) * np.sum((replicate_means - main_mean) ** 2))\n",
    "\n",
    "    # Confidence intervals\n",
    "    ci_lower = main_mean - 1.96 * se\n",
    "    ci_upper = main_mean + 1.96 * se\n",
    "\n",
    "    # Coefficient of variation\n",
    "    cv = (se / main_mean) * 100 if main_mean != 0 else np.nan\n",
    "\n",
    "    results[group] = {\n",
    "        \"Mean\": main_mean,\n",
    "        \"StdErr\": se,\n",
    "        \"CI_Lower\": ci_lower,\n",
    "        \"CI_Upper\": ci_upper,\n",
    "        \"CV\": cv\n",
    "    }\n",
    "\n",
    "# Convert results to DataFrame\n",
    "results_df = pd.DataFrame.from_dict(results, orient='index')\n",
    "results_df.index.name = \"Burnout_Level\"\n",
    "\n",
    "# Display results\n",
    "print(\"Descriptive Statistics for Hours Worked Per Year by Burnout Types:\")\n",
    "print(results_df)\n",
    "\n",
    "# Save to CSV if needed\n",
    "results_df.to_csv(\"burnout_hours_worked_statistics_AF.csv\")"
   ]
  },
  {
   "cell_type": "code",
   "execution_count": 19,
   "id": "50b51099-e87d-4b36-aeea-e25262205ae9",
   "metadata": {},
   "outputs": [
    {
     "name": "stderr",
     "output_type": "stream",
     "text": [
      "/var/folders/d5/kgysm8891fz4fb9h73cdy99c0000gn/T/ipykernel_63974/2597037949.py:7: FutureWarning: \n",
      "\n",
      "The `ci` parameter is deprecated. Use `errorbar=None` for the same effect.\n",
      "\n",
      "  sns.barplot(x=results_df.index, y='Mean', data=results_df, color='skyblue', ci=None)\n"
     ]
    },
    {
     "name": "stdout",
     "output_type": "stream",
     "text": [
      "Word document created with the plot: mean_hours_burnout_CI_plot.docx\n"
     ]
    }
   ],
   "source": [
    "# Create a new Word document\n",
    "doc = Document()\n",
    "doc.add_heading('Mean Hours Worked Per Year by Burnout Type with 95% CI', level=1)\n",
    "\n",
    "# Create a bar plot for the Mean Hours Worked per Year with 95% CI as error bars\n",
    "plt.figure(figsize=(10, 6))\n",
    "sns.barplot(x=results_df.index, y='Mean', data=results_df, color='skyblue', ci=None)\n",
    "\n",
    "# Add error bars for the 95% Confidence Interval\n",
    "for i, group in enumerate(results_df.index):\n",
    "    plt.errorbar(x=i, y=results_df.loc[group, 'Mean'], \n",
    "                 yerr=[[results_df.loc[group, 'Mean'] - results_df.loc[group, 'CI_Lower']], \n",
    "                       [results_df.loc[group, 'CI_Upper'] - results_df.loc[group, 'Mean']]], \n",
    "                 fmt='none', color='black', capsize=5)\n",
    "\n",
    "# Labeling the plot\n",
    "plt.title('Mean Hours Worked Per Year by Burnout Type with 95% CI')\n",
    "plt.xlabel('Burnout Type')\n",
    "plt.ylabel('Mean Hours Worked Per Year')\n",
    "plt.xticks(rotation=45)\n",
    "plt.tight_layout()\n",
    "\n",
    "# Save the plot as an image file\n",
    "plot_image_path = \"mean_hours_burnout_CI_plot.png\"\n",
    "plt.savefig(plot_image_path, dpi=300)  # Save with high resolution\n",
    "plt.close()\n",
    "\n",
    "# Add the plot image to the Word document\n",
    "doc.add_picture(plot_image_path, width=Inches(6))\n",
    "\n",
    "# Save the Word document\n",
    "doc.save('mean_hours_burnout_CI_plot.docx')\n",
    "print(\"Word document created with the plot: mean_hours_burnout_CI_plot.docx\")"
   ]
  },
  {
   "cell_type": "code",
   "execution_count": 20,
   "id": "19b7c0e5-2ac6-43c4-aa2e-84b9ca46509a",
   "metadata": {},
   "outputs": [
    {
     "name": "stderr",
     "output_type": "stream",
     "text": [
      "/var/folders/d5/kgysm8891fz4fb9h73cdy99c0000gn/T/ipykernel_63974/3205990643.py:19: SettingWithCopyWarning: \n",
      "A value is trying to be set on a copy of a slice from a DataFrame.\n",
      "Try using .loc[row_indexer,col_indexer] = value instead\n",
      "\n",
      "See the caveats in the documentation: https://pandas.pydata.org/pandas-docs/stable/user_guide/indexing.html#returning-a-view-versus-a-copy\n",
      "  df1['AGE_LABEL'] = df1['AGE_GP_PUF'].map(age_labels)\n"
     ]
    },
    {
     "name": "stdout",
     "output_type": "stream",
     "text": [
      "Word document created with the table and heatmap: age_burnout_distribution.docx\n"
     ]
    }
   ],
   "source": [
    "from io import BytesIO\n",
    "\n",
    "# Age group labels\n",
    "age_labels = {\n",
    "    1: '<29',\n",
    "    2: '30–34',\n",
    "    3: '35–39',\n",
    "    4: '40–44',\n",
    "    5: '45–49',\n",
    "    6: '50–54',\n",
    "    7: '55–59',\n",
    "    8: '60–64',\n",
    "    9: '65–69',\n",
    "    10: '70–74',\n",
    "    11: '≥75'\n",
    "}\n",
    "\n",
    "# Map the age group labels\n",
    "df1['AGE_LABEL'] = df1['AGE_GP_PUF'].map(age_labels)\n",
    "\n",
    "# Create a new Word document\n",
    "doc = Document()\n",
    "doc.add_heading('Weighted Distribution of Age by Burnout', level=1)\n",
    "\n",
    "# Create the weighted cross-tabulation of AGE_LABEL and CV_BURNT_2021 using RKRNWGTA\n",
    "weighted_data = df1[['AGE_LABEL', 'CV_BURNT_2021', 'RKRNWGTA']]\n",
    "interaction_table_weighted = pd.pivot_table(weighted_data, \n",
    "                                            values='RKRNWGTA', \n",
    "                                            index='AGE_LABEL', \n",
    "                                            columns='CV_BURNT_2021', \n",
    "                                            aggfunc='sum', \n",
    "                                            fill_value=0)\n",
    "\n",
    "# Add the table to the Word document\n",
    "doc.add_heading('Weighted Frequency Table (Cross-Tab) for Age Group and Burnout:', level=2)\n",
    "\n",
    "# Add table to the Word document\n",
    "table = doc.add_table(rows=1, cols=len(interaction_table_weighted.columns) + 1)\n",
    "hdr_cells = table.rows[0].cells\n",
    "hdr_cells[0].text = 'Age Group'\n",
    "for i, col in enumerate(interaction_table_weighted.columns):\n",
    "    hdr_cells[i + 1].text = str(col)\n",
    "\n",
    "for index, row in interaction_table_weighted.iterrows():\n",
    "    row_cells = table.add_row().cells\n",
    "    row_cells[0].text = str(index)\n",
    "    for i, val in enumerate(row):\n",
    "        row_cells[i + 1].text = str(round(val, 1))\n",
    "\n",
    "# Create the heatmap plot\n",
    "plt.figure(figsize=(10, 6))\n",
    "sns.heatmap(interaction_table_weighted, annot=True, cmap='Blues', fmt='.1f', cbar=True)\n",
    "plt.title('Interaction between Age and Burnout')\n",
    "plt.xlabel('Burnout')\n",
    "plt.ylabel('Age Group')\n",
    "plt.xticks(rotation=45)\n",
    "plt.yticks(rotation=0)\n",
    "plt.tight_layout()\n",
    "\n",
    "# Save the plot as an image in memory\n",
    "img_stream = BytesIO()\n",
    "plt.savefig(img_stream, format='png')\n",
    "img_stream.seek(0)\n",
    "plt.close()\n",
    "\n",
    "# Add the heatmap image to the Word document\n",
    "doc.add_heading('Heatmap of Interaction between Age and Burnout:', level=2)\n",
    "doc.add_picture(img_stream, width=Inches(6))\n",
    "\n",
    "# Save the Word document\n",
    "doc.save('age_burnout_distribution.docx')\n",
    "print(\"Word document created with the table and heatmap: age_burnout_distribution.docx\")"
   ]
  },
  {
   "cell_type": "code",
   "execution_count": 21,
   "id": "6fdacd39-044c-4f24-9722-bef56d0f4bd5",
   "metadata": {},
   "outputs": [
    {
     "name": "stdout",
     "output_type": "stream",
     "text": [
      "Weighted ANOVA Results:\n",
      "                        sum_sq       df           F         PR(>F)\n",
      "C(CV_BURNT_2021)  3.918790e+10      4.0  253.590535  1.252572e-215\n",
      "Residual          1.591411e+12  41193.0         NaN            NaN\n",
      "Reject the null hypothesis: There is a significant difference in mean hours worked per year between burnout groups.\n"
     ]
    },
    {
     "name": "stderr",
     "output_type": "stream",
     "text": [
      "/var/folders/d5/kgysm8891fz4fb9h73cdy99c0000gn/T/ipykernel_63974/3074944254.py:22: FutureWarning: Series.__getitem__ treating keys as positions is deprecated. In a future version, integer keys will always be treated as labels (consistent with DataFrame behavior). To access a value by position, use `ser.iloc[pos]`\n",
      "  if anova_results['PR(>F)'][0] < 0.05:\n"
     ]
    },
    {
     "data": {
      "image/png": "[encoded data removed]",
      "text/plain": [
       "<Figure size 800x600 with 1 Axes>"
      ]
     },
     "metadata": {},
     "output_type": "display_data"
    }
   ],
   "source": [
    "# Hypothesis testing:\n",
    "# Null hypothesis there is not difference in mean hours work for year for frequency of burnout feeling\n",
    "# Alternative hypothesis at least one group of burnout frequency has different mean age\n",
    "import statsmodels.api as sm\n",
    "from statsmodels.formula.api import wls\n",
    "\n",
    "\n",
    "# Drop rows with missing values in the relevant columns\n",
    "df_anova = df1[['HRS_YR_PUF', 'CV_BURNT_2021', 'RKRNWGTA']].dropna()\n",
    "\n",
    "# Weighted least squares model\n",
    "model = wls('HRS_YR_PUF ~ C(CV_BURNT_2021)', data=df_anova, weights=df_anova['RKRNWGTA']).fit()\n",
    "\n",
    "# ANOVA table\n",
    "anova_results = sm.stats.anova_lm(model, typ=2)\n",
    "\n",
    "# Display results\n",
    "print(\"Weighted ANOVA Results:\")\n",
    "print(anova_results)\n",
    "\n",
    "# Interpretation\n",
    "if anova_results['PR(>F)'][0] < 0.05:\n",
    "    print(\"Reject the null hypothesis: There is a significant difference in mean hours worked per year between burnout groups.\")\n",
    "else:\n",
    "    print(\"Fail to reject the null hypothesis: No significant difference in mean hours worked per year between burnout groups.\")\n",
    "\n",
    "# Visualization\n",
    "plt.figure(figsize=(8, 6))\n",
    "sns.boxplot(x='CV_BURNT_2021', y='HRS_YR_PUF', data=df_anova)\n",
    "plt.title('Hours Worked Per Year by Burnout Frequency')\n",
    "plt.xlabel('Burnout Frequency (CV_BURNT_2021)')\n",
    "plt.ylabel('Hours Worked Per Year')\n",
    "plt.xticks(rotation=45)\n",
    "plt.tight_layout()\n",
    "plt.show()"
   ]
  },
  {
   "cell_type": "code",
   "execution_count": 22,
   "id": "9756a7b6-eca7-489f-a9c1-fb55de86f15f",
   "metadata": {},
   "outputs": [
    {
     "name": "stdout",
     "output_type": "stream",
     "text": [
      "Document saved as: burnout_hours_worked_kruskal_test.docx\n"
     ]
    }
   ],
   "source": [
    "from scipy.stats import kruskal\n",
    "\n",
    "# Drop NA values for relevant columns\n",
    "df_anova = df1[['HRS_YR_PUF', 'CV_BURNT_2021']].dropna()\n",
    "\n",
    "# Perform Kruskal-Wallis test\n",
    "groups = [group['HRS_YR_PUF'].values for name, group in df_anova.groupby('CV_BURNT_2021')]\n",
    "kruskal_test_result = kruskal(*groups)\n",
    "\n",
    "# Create a Word document\n",
    "doc = Document()\n",
    "doc.add_heading('Kruskal-Wallis Test: Hours Worked by Burnout Frequency', level=1)\n",
    "\n",
    "# Add test results to the document\n",
    "doc.add_paragraph(f\"H-statistic: {kruskal_test_result.statistic:.4f}\")\n",
    "doc.add_paragraph(f\"p-value: {kruskal_test_result.pvalue:.4f}\")\n",
    "\n",
    "# Save the boxplot as an image\n",
    "plt.figure(figsize=(10, 6))\n",
    "sns.boxplot(x='CV_BURNT_2021', y='HRS_YR_PUF', data=df_anova)\n",
    "plt.title('Hours Worked Per Year by Burnout Frequency')\n",
    "plt.xlabel('Burnout Frequency')\n",
    "plt.ylabel('Hours Worked Per Year')\n",
    "plt.xticks(rotation=45)\n",
    "plt.tight_layout()\n",
    "\n",
    "plot_path = 'kruskal_boxplot.png'\n",
    "plt.savefig(plot_path)\n",
    "plt.close()\n",
    "\n",
    "# Add the image to the document\n",
    "doc.add_picture(plot_path, width=Inches(6))\n",
    "\n",
    "# Save the document to working directory\n",
    "doc_path = 'burnout_hours_worked_kruskal_test.docx'\n",
    "doc.save(doc_path)\n",
    "\n",
    "print(f\"Document saved as: {doc_path}\")"
   ]
  },
  {
   "cell_type": "code",
   "execution_count": 23,
   "id": "9a3cf5e8-e66c-4b21-a306-7319b62cdcef",
   "metadata": {},
   "outputs": [
    {
     "name": "stdout",
     "output_type": "stream",
     "text": [
      "Document saved as 'chi_square_test_age_vs_burnout.docx'\n"
     ]
    }
   ],
   "source": [
    "import scipy.stats as stats\n",
    "\n",
    "# Define age labels\n",
    "age_labels = {\n",
    "    1: '<29',\n",
    "    2: '30–34',\n",
    "    3: '35–39',\n",
    "    4: '40–44',\n",
    "    5: '45–49',\n",
    "    6: '50–54',\n",
    "    7: '55–59',\n",
    "    8: '60–64',\n",
    "    9: '65–69',\n",
    "    10: '70–74',\n",
    "    11: '≥75'\n",
    "}\n",
    "\n",
    "# Drop missing values and map age labels\n",
    "df_ct = df1[['AGE_GP_PUF', 'CV_BURNT_2021', 'RKRNWGTA']].dropna()\n",
    "df_ct['AGE_LABEL'] = df_ct['AGE_GP_PUF'].map(age_labels)\n",
    "\n",
    "# Create a weighted contingency table using AGE_LABEL\n",
    "weighted_ct = df_ct.pivot_table(\n",
    "    index='AGE_LABEL',\n",
    "    columns='CV_BURNT_2021',\n",
    "    values='RKRNWGTA',\n",
    "    aggfunc='sum',\n",
    "    fill_value=0\n",
    ")\n",
    "\n",
    "# Perform the Chi-square test of independence\n",
    "chi2, p, dof, expected = stats.chi2_contingency(weighted_ct)\n",
    "\n",
    "# Interpretation\n",
    "interpretation = (\n",
    "    \"Reject the null hypothesis: There is a significant association between age categories and burnout groups.\"\n",
    "    if p < 0.05 else\n",
    "    \"Fail to reject the null hypothesis: There is no significant association between age categories and burnout groups.\"\n",
    ")\n",
    "\n",
    "# Create the plot (unweighted counts using AGE_LABEL)\n",
    "plt.figure(figsize=(10, 6))\n",
    "sns.countplot(\n",
    "    x='AGE_LABEL', hue='CV_BURNT_2021', data=df_ct,\n",
    "    palette=\"Set2\", order=[age_labels[i] for i in sorted(age_labels.keys())]\n",
    ")\n",
    "plt.title(' Distribution of Burnout Groups by Age Category')\n",
    "plt.xlabel('Age Category')\n",
    "plt.ylabel('Count')\n",
    "plt.xticks(rotation=45)\n",
    "plt.tight_layout()\n",
    "plot_filename = \"age_burnout_distribution.png\"\n",
    "plt.savefig(plot_filename)\n",
    "plt.close()\n",
    "\n",
    "# Create the Word document\n",
    "doc = Document()\n",
    "doc.add_heading('Chi-Square Test of Association: Age Group vs. Burnout Frequency', 0)\n",
    "\n",
    "doc.add_heading('Hypotheses', level=2)\n",
    "doc.add_paragraph(\"Null Hypothesis (H₀): There is no association between age categories and burnout groups.\")\n",
    "doc.add_paragraph(\"Alternative Hypothesis (H₁): There is a significant association between age categories and burnout groups.\")\n",
    "\n",
    "doc.add_heading('Chi-Square Test Results', level=2)\n",
    "doc.add_paragraph(f\"Chi-square statistic: {chi2:.4f}\")\n",
    "doc.add_paragraph(f\"Degrees of freedom: {dof}\")\n",
    "doc.add_paragraph(f\"p-value: {p:.4f}\")\n",
    "\n",
    "doc.add_heading('Interpretation', level=2)\n",
    "doc.add_paragraph(interpretation)\n",
    "\n",
    "doc.add_heading('Visualization', level=2)\n",
    "doc.add_picture(plot_filename, width=Inches(6.0))\n",
    "\n",
    "# Save the Word document\n",
    "doc.save(\"chi_square_test_age_vs_burnout.docx\")\n",
    "print(\"Document saved as 'chi_square_test_age_vs_burnout.docx'\")"
   ]
  },
  {
   "cell_type": "code",
   "execution_count": 24,
   "id": "7f6a459a-20d5-4b54-80f1-084c0e2b0941",
   "metadata": {},
   "outputs": [
    {
     "name": "stdout",
     "output_type": "stream",
     "text": [
      "Document saved as 'chi_square_test_age_vs_burnout.docx'\n"
     ]
    }
   ],
   "source": [
    "# Drop missing values in relevant columns\n",
    "df_ct = df1[['AGE_GP_PUF', 'CV_BURNT_2021', 'RKRNWGTA']].dropna()\n",
    "\n",
    "# Create a weighted contingency table\n",
    "weighted_ct = df_ct.pivot_table(\n",
    "    index='AGE_GP_PUF',\n",
    "    columns='CV_BURNT_2021',\n",
    "    values='RKRNWGTA',\n",
    "    aggfunc='sum',\n",
    "    fill_value=0\n",
    ")\n",
    "\n",
    "# Perform the Chi-square test of independence\n",
    "chi2, p, dof, expected = stats.chi2_contingency(weighted_ct)\n",
    "\n",
    "# Interpretation\n",
    "interpretation = (\n",
    "    \"Reject the null hypothesis: There is a significant association between age categories and burnout groups.\"\n",
    "    if p < 0.05 else\n",
    "    \"Fail to reject the null hypothesis: There is no significant association between age categories and burnout groups.\"\n",
    ")\n",
    "\n",
    "# Create the plot (unweighted counts)\n",
    "plt.figure(figsize=(10, 6))\n",
    "sns.countplot(\n",
    "    x='AGE_GP_PUF', hue='CV_BURNT_2021', data=df_ct,\n",
    "    palette=\"Set2\", order=sorted(df_ct['AGE_GP_PUF'].unique())\n",
    ")\n",
    "plt.title('Unweighted Distribution of Burnout Groups by Age Category')\n",
    "plt.xlabel('Age Category (AGE_GP_PUF)')\n",
    "plt.ylabel('Count')\n",
    "plt.xticks(rotation=45)\n",
    "plt.tight_layout()\n",
    "plot_filename = \"age_burnout_distribution.png\"\n",
    "plt.savefig(plot_filename)\n",
    "plt.close()\n",
    "\n",
    "# Create the Word document\n",
    "doc = Document()\n",
    "doc.add_heading('Chi-Square Test of Association: Age Group vs. Burnout Frequency', 0)\n",
    "\n",
    "doc.add_heading('Hypotheses', level=2)\n",
    "doc.add_paragraph(\"Null Hypothesis (H₀): There is no association between age categories and burnout groups.\")\n",
    "doc.add_paragraph(\"Alternative Hypothesis (H₁): There is a significant association between age categories and burnout groups.\")\n",
    "\n",
    "doc.add_heading('Chi-Square Test Results', level=2)\n",
    "doc.add_paragraph(f\"Chi-square statistic: {chi2:.4f}\")\n",
    "doc.add_paragraph(f\"Degrees of freedom: {dof}\")\n",
    "doc.add_paragraph(f\"p-value: {p:.4f}\")\n",
    "\n",
    "doc.add_heading('Interpretation', level=2)\n",
    "doc.add_paragraph(interpretation)\n",
    "\n",
    "doc.add_heading('Visualization', level=2)\n",
    "doc.add_picture(plot_filename, width=Inches(6.0))\n",
    "\n",
    "# Save the Word document\n",
    "doc.save(\"chi_square_test_age_vs_burnout.docx\")\n",
    "print(\"Document saved as 'chi_square_test_age_vs_burnout.docx'\")"
   ]
  },
  {
   "cell_type": "code",
   "execution_count": 25,
   "id": "b0d2fbc0-44d4-4190-9368-07100c78aa7a",
   "metadata": {},
   "outputs": [
    {
     "name": "stderr",
     "output_type": "stream",
     "text": [
      "/var/folders/d5/kgysm8891fz4fb9h73cdy99c0000gn/T/ipykernel_63974/3174508910.py:2: SettingWithCopyWarning: \n",
      "A value is trying to be set on a copy of a slice from a DataFrame.\n",
      "Try using .loc[row_indexer,col_indexer] = value instead\n",
      "\n",
      "See the caveats in the documentation: https://pandas.pydata.org/pandas-docs/stable/user_guide/indexing.html#returning-a-view-versus-a-copy\n",
      "  df1['burnout_binary'] = df1['CV_BURNT_2021'].apply(lambda x: 0 if x == 'NEVER' else 1)\n"
     ]
    }
   ],
   "source": [
    "# Create a binary burnout variable\n",
    "df1['burnout_binary'] = df1['CV_BURNT_2021'].apply(lambda x: 0 if x == 'NEVER' else 1)\n",
    "# Create df_model with the required variables and drop rows with missing values\n",
    "df_model = df1[['burnout_binary', 'AGE_GP_PUF', 'PN_EMPSET_COMB_PUF', 'ED_NONND_TYPE', 'NH_YRSNURS', 'PN_HRS_WRK_PUF']].dropna()"
   ]
  },
  {
   "cell_type": "code",
   "execution_count": 26,
   "id": "d6444e76-7f29-4aa0-8fa4-7004ee807053",
   "metadata": {},
   "outputs": [
    {
     "name": "stdout",
     "output_type": "stream",
     "text": [
      "Optimization terminated successfully.\n",
      "         Current function value: 0.314254\n",
      "         Iterations 7\n",
      "                Variable   LR stat    df  p-value\n",
      "0          C(AGE_GP_PUF)  129.5400  10.0   0.0000\n",
      "1  C(PN_EMPSET_COMB_PUF)   61.6557   4.0   0.0000\n",
      "2       C(ED_NONND_TYPE)    9.5339   5.0   0.0896\n",
      "3             NH_YRSNURS    4.7219   1.0   0.0298\n",
      "4         PN_HRS_WRK_PUF  175.3460   1.0   0.0000\n"
     ]
    }
   ],
   "source": [
    "import statsmodels.api as sm\n",
    "from statsmodels.formula.api import logit\n",
    "from scipy.stats import chi2\n",
    "\n",
    "# Full model\n",
    "formula_full = 'burnout_binary ~ C(AGE_GP_PUF) + C(PN_EMPSET_COMB_PUF) + C(ED_NONND_TYPE) + NH_YRSNURS + PN_HRS_WRK_PUF'\n",
    "model_full = logit(formula=formula_full, data=df_model).fit()\n",
    "\n",
    "# Function to test each variable by dropping it\n",
    "def test_variable_significance(full_formula, variable, data):\n",
    "    reduced_formula = full_formula.replace(f' + {variable}', '').replace(f'{variable} + ', '')\n",
    "    model_reduced = logit(formula=reduced_formula, data=data).fit(disp=0)\n",
    "    lr_stat = 2 * (model_full.llf - model_reduced.llf)\n",
    "    df_diff = model_full.df_model - model_reduced.df_model\n",
    "    p_value = chi2.sf(lr_stat, df_diff)\n",
    "    return {'Variable': variable, 'LR stat': round(lr_stat, 4), 'df': df_diff, 'p-value': round(p_value, 4)}\n",
    "\n",
    "# Variables to test\n",
    "variables_to_test = ['C(AGE_GP_PUF)', 'C(PN_EMPSET_COMB_PUF)', 'C(ED_NONND_TYPE)', 'NH_YRSNURS', 'PN_HRS_WRK_PUF']\n",
    "results = [test_variable_significance(formula_full, var, df_model) for var in variables_to_test]\n",
    "\n",
    "# Results as DataFrame\n",
    "significance_df = pd.DataFrame(results)\n",
    "print(significance_df)"
   ]
  },
  {
   "cell_type": "code",
   "execution_count": 27,
   "id": "386978db-3286-4d15-b079-a160ea0427ab",
   "metadata": {},
   "outputs": [],
   "source": [
    "# Create Word document\n",
    "doc = Document()\n",
    "doc.add_heading('Likelihood Ratio Test: Variable Significance in Burnout Model', level=1)\n",
    "\n",
    "# Create table\n",
    "table = doc.add_table(rows=1, cols=len(significance_df.columns))\n",
    "table.style = 'Table Grid'\n",
    "\n",
    "# Add header row\n",
    "hdr_cells = table.rows[0].cells\n",
    "for i, col in enumerate(significance_df.columns):\n",
    "    hdr_cells[i].text = str(col)\n",
    "\n",
    "# Add data rows\n",
    "for _, row in significance_df.iterrows():\n",
    "    row_cells = table.add_row().cells\n",
    "    for i, item in enumerate(row):\n",
    "        row_cells[i].text = str(item)\n",
    "\n",
    "# Save the document\n",
    "doc.save(\"burnout_model_variable_significance.docx\")"
   ]
  },
  {
   "cell_type": "code",
   "execution_count": 28,
   "id": "5289ccfa-656f-4d7f-b4b7-851f84b15d99",
   "metadata": {},
   "outputs": [
    {
     "name": "stderr",
     "output_type": "stream",
     "text": [
      "/var/folders/d5/kgysm8891fz4fb9h73cdy99c0000gn/T/ipykernel_63974/2234796616.py:6: SettingWithCopyWarning: \n",
      "A value is trying to be set on a copy of a slice from a DataFrame.\n",
      "Try using .loc[row_indexer,col_indexer] = value instead\n",
      "\n",
      "See the caveats in the documentation: https://pandas.pydata.org/pandas-docs/stable/user_guide/indexing.html#returning-a-view-versus-a-copy\n",
      "  df1['burnout_binary'] = df1['CV_BURNT_2021'].apply(lambda x: 0 if x == 'NEVER' else 1)\n",
      "/var/folders/d5/kgysm8891fz4fb9h73cdy99c0000gn/T/ipykernel_63974/2234796616.py:22: SettingWithCopyWarning: \n",
      "A value is trying to be set on a copy of a slice from a DataFrame.\n",
      "Try using .loc[row_indexer,col_indexer] = value instead\n",
      "\n",
      "See the caveats in the documentation: https://pandas.pydata.org/pandas-docs/stable/user_guide/indexing.html#returning-a-view-versus-a-copy\n",
      "  df1['AGE_GP_PUF'] = df1['AGE_GP_PUF'].map(age_labels)\n",
      "/var/folders/d5/kgysm8891fz4fb9h73cdy99c0000gn/T/ipykernel_63974/2234796616.py:23: SettingWithCopyWarning: \n",
      "A value is trying to be set on a copy of a slice from a DataFrame.\n",
      "Try using .loc[row_indexer,col_indexer] = value instead\n",
      "\n",
      "See the caveats in the documentation: https://pandas.pydata.org/pandas-docs/stable/user_guide/indexing.html#returning-a-view-versus-a-copy\n",
      "  df1['ED_NONND_TYPE'] = df1['ED_NONND_TYPE'].map(edu_labels)\n",
      "/var/folders/d5/kgysm8891fz4fb9h73cdy99c0000gn/T/ipykernel_63974/2234796616.py:24: SettingWithCopyWarning: \n",
      "A value is trying to be set on a copy of a slice from a DataFrame.\n",
      "Try using .loc[row_indexer,col_indexer] = value instead\n",
      "\n",
      "See the caveats in the documentation: https://pandas.pydata.org/pandas-docs/stable/user_guide/indexing.html#returning-a-view-versus-a-copy\n",
      "  df1['PN_EMPSET_COMB_PUF'] = df1['PN_EMPSET_COMB_PUF'].map(employment_labels)\n"
     ]
    },
    {
     "name": "stdout",
     "output_type": "stream",
     "text": [
      "Optimization terminated successfully.\n",
      "         Current function value: 0.314254\n",
      "         Iterations 7\n",
      "Word document created: logistic_regression_results_with_odds_ratios_ref_age_75.docx\n"
     ]
    }
   ],
   "source": [
    "import statsmodels.formula.api as smf\n",
    "from patsy.contrasts import Treatment\n",
    "from patsy import dmatrix\n",
    "\n",
    "# Create binary burnout variable\n",
    "df1['burnout_binary'] = df1['CV_BURNT_2021'].apply(lambda x: 0 if x == 'NEVER' else 1)\n",
    "\n",
    "# Assign value labels to categorical variables\n",
    "age_labels = {\n",
    "    1: '<29', 2: '30–34', 3: '35–39', 4: '40–44', 5: '45–49',\n",
    "    6: '50–54', 7: '55–59', 8: '60–64', 9: '65–69', 10: '70–74', 11: '≥75'\n",
    "}\n",
    "edu_labels = {\n",
    "    1: 'Associate', 2: 'Bachelors', 3: 'Masters',\n",
    "    4: 'Doctorate', 5: 'Other', 6: 'Diploma/Cert'\n",
    "}\n",
    "employment_labels = {\n",
    "    1: 'Hospital', 2: 'Inpatient', 3: 'Outpatient',\n",
    "    4: 'Non-Patient', 5: 'Two or More'\n",
    "}\n",
    "\n",
    "df1['AGE_GP_PUF'] = df1['AGE_GP_PUF'].map(age_labels)\n",
    "df1['ED_NONND_TYPE'] = df1['ED_NONND_TYPE'].map(edu_labels)\n",
    "df1['PN_EMPSET_COMB_PUF'] = df1['PN_EMPSET_COMB_PUF'].map(employment_labels)\n",
    "\n",
    "# Drop rows with missing values\n",
    "model_vars = ['burnout_binary', 'AGE_GP_PUF', 'PN_EMPSET_COMB_PUF', 'ED_NONND_TYPE', 'NH_YRSNURS', 'PN_HRS_WRK_PUF']\n",
    "df_model = df1[model_vars].dropna().copy()\n",
    "\n",
    "# Set AGE_GP_PUF as categorical with '≥75' as reference\n",
    "df_model['AGE_GP_PUF'] = pd.Categorical(df_model['AGE_GP_PUF'], categories=[\n",
    "    '≥75', '<29', '30–34', '35–39', '40–44', '45–49', '50–54', '55–59', '60–64', '65–69', '70–74'\n",
    "], ordered=False)\n",
    "\n",
    "# Fit logistic regression model with new reference\n",
    "formula = 'burnout_binary ~ C(AGE_GP_PUF, Treatment(reference=\"≥75\")) + C(PN_EMPSET_COMB_PUF) + C(ED_NONND_TYPE) + NH_YRSNURS + PN_HRS_WRK_PUF'\n",
    "logit_model = smf.logit(formula=formula, data=df_model).fit()\n",
    "\n",
    "# Extract results and calculate odds ratios\n",
    "summary_frame = logit_model.summary2().tables[1]\n",
    "summary_frame['Odds Ratio'] = np.exp(summary_frame['Coef.'])\n",
    "summary_frame.reset_index(inplace=True)\n",
    "\n",
    "# Export to Word\n",
    "doc = Document()\n",
    "doc.add_heading('Logistic Regression Results: Burnout Model (Reference Age Group: ≥75)', level=1)\n",
    "\n",
    "# Add table with odds ratios\n",
    "columns = list(summary_frame.columns)\n",
    "table = doc.add_table(rows=1, cols=len(columns))\n",
    "table.style = 'Table Grid'\n",
    "\n",
    "# Header row\n",
    "hdr_cells = table.rows[0].cells\n",
    "for i, col in enumerate(columns):\n",
    "    hdr_cells[i].text = str(col)\n",
    "\n",
    "# Data rows\n",
    "for _, row in summary_frame.iterrows():\n",
    "    row_cells = table.add_row().cells\n",
    "    for i, item in enumerate(row):\n",
    "        row_cells[i].text = str(round(item, 4)) if isinstance(item, (int, float)) else str(item)\n",
    "\n",
    "# Save document\n",
    "doc.save(\"logistic_regression_results_with_odds_ratios_ref_age_75.docx\")\n",
    "print(\"Word document created: logistic_regression_results_with_odds_ratios_ref_age_75.docx\")"
   ]
  }
 ],
 "metadata": {
  "kernelspec": {
   "display_name": "Python 3 (ipykernel)",
   "language": "python",
   "name": "python3"
  },
  "language_info": {
   "codemirror_mode": {
    "name": "ipython",
    "version": 3
   },
   "file_extension": ".py",
   "mimetype": "text/x-python",
   "name": "python",
   "nbconvert_exporter": "python",
   "pygments_lexer": "ipython3",
   "version": "3.11.5"
  }
 },
 "nbformat": 4,
 "nbformat_minor": 5
}
